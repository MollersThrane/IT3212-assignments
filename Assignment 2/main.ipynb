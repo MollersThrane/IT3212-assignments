{
 "cells": [
  {
   "cell_type": "markdown",
   "metadata": {},
   "source": [
    "Download and crop images"
   ]
  },
  {
   "cell_type": "code",
   "execution_count": null,
   "metadata": {},
   "outputs": [],
   "source": [
    "# Provided by ChatGPT\n",
    "import pandas as pd\n",
    "import requests\n",
    "from PIL import Image\n",
    "from io import BytesIO\n",
    "import os\n",
    "\n",
    "def download_image(url):\n",
    "    try:\n",
    "        response = requests.get(url)\n",
    "        response.raise_for_status()\n",
    "        return Image.open(BytesIO(response.content))\n",
    "    except requests.exceptions.RequestException as e:\n",
    "        print(f\"Failed to download {url}: {e}\")\n",
    "        return None\n",
    "\n",
    "def crop_and_save_image(image, bbox, save_path):\n",
    "    width, height = image.size\n",
    "    left = bbox[0] * width\n",
    "    top = bbox[2] * height\n",
    "    right = bbox[1] * width\n",
    "    bottom = bbox[3] * height\n",
    "    \n",
    "    cropped_image = image.crop((left, top, right, bottom))\n",
    "    cropped_image.save(save_path)\n",
    "\n",
    "def process_csv(file_path, output_dir):\n",
    "    # Read the first 10 lines of the CSV file\n",
    "    df = pd.read_csv(file_path, header=None, nrows=10)\n",
    "    \n",
    "    # Iterate through each row in the DataFrame\n",
    "    for index, row in df.iterrows():\n",
    "        for i in range(0, len(row) - 5, 5):\n",
    "            url = row[i]\n",
    "            bbox = [row[i+1], row[i+2], row[i+3], row[i+4]]\n",
    "            \n",
    "            # Download the image\n",
    "            image = download_image(url)\n",
    "            if image is None:\n",
    "                continue\n",
    "            \n",
    "            # Create output directory if it doesn't exist\n",
    "            os.makedirs(output_dir, exist_ok=True)\n",
    "            \n",
    "            # Define save path for cropped image\n",
    "            save_path = os.path.join(output_dir, f\"cropped_face_{index}_{i//5}.jpg\")\n",
    "            \n",
    "            # Crop and save the image\n",
    "            crop_and_save_image(image, bbox, save_path)\n",
    "            print(f\"Saved cropped face to {save_path}\")\n",
    "\n",
    "if __name__ == \"__main__\":\n",
    "    # Path to your CSV file\n",
    "    csv_file_path = \"path/to/your/csv_file.csv\"\n",
    "    # Directory to save cropped face images\n",
    "    output_directory = \"cropped_faces\"\n",
    "    \n",
    "    process_csv(csv_file_path, output_directory)"
   ]
  }
 ],
 "metadata": {
  "language_info": {
   "name": "python"
  }
 },
 "nbformat": 4,
 "nbformat_minor": 2
}
